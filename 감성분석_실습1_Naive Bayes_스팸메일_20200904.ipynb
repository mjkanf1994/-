{
 "cells": [
  {
   "cell_type": "code",
   "execution_count": null,
   "metadata": {},
   "outputs": [],
   "source": [
    "#나의 직접구현"
   ]
  },
  {
   "cell_type": "code",
   "execution_count": 45,
   "metadata": {},
   "outputs": [
    {
     "data": {
      "text/html": [
       "<div>\n",
       "<style scoped>\n",
       "    .dataframe tbody tr th:only-of-type {\n",
       "        vertical-align: middle;\n",
       "    }\n",
       "\n",
       "    .dataframe tbody tr th {\n",
       "        vertical-align: top;\n",
       "    }\n",
       "\n",
       "    .dataframe thead th {\n",
       "        text-align: right;\n",
       "    }\n",
       "</style>\n",
       "<table border=\"1\" class=\"dataframe\">\n",
       "  <thead>\n",
       "    <tr style=\"text-align: right;\">\n",
       "      <th></th>\n",
       "      <th>mail</th>\n",
       "      <th>label</th>\n",
       "    </tr>\n",
       "  </thead>\n",
       "  <tbody>\n",
       "    <tr>\n",
       "      <th>0</th>\n",
       "      <td>i love you</td>\n",
       "      <td>1</td>\n",
       "    </tr>\n",
       "    <tr>\n",
       "      <th>1</th>\n",
       "      <td>love happy weekend</td>\n",
       "      <td>1</td>\n",
       "    </tr>\n",
       "    <tr>\n",
       "      <th>2</th>\n",
       "      <td>bore work job</td>\n",
       "      <td>0</td>\n",
       "    </tr>\n",
       "    <tr>\n",
       "      <th>3</th>\n",
       "      <td>i hate you</td>\n",
       "      <td>0</td>\n",
       "    </tr>\n",
       "    <tr>\n",
       "      <th>4</th>\n",
       "      <td>bore weekend</td>\n",
       "      <td>0</td>\n",
       "    </tr>\n",
       "    <tr>\n",
       "      <th>5</th>\n",
       "      <td>happy together</td>\n",
       "      <td>1</td>\n",
       "    </tr>\n",
       "  </tbody>\n",
       "</table>\n",
       "</div>"
      ],
      "text/plain": [
       "                 mail  label\n",
       "0          i love you      1\n",
       "1  love happy weekend      1\n",
       "2       bore work job      0\n",
       "3          i hate you      0\n",
       "4        bore weekend      0\n",
       "5      happy together      1"
      ]
     },
     "execution_count": 45,
     "metadata": {},
     "output_type": "execute_result"
    }
   ],
   "source": [
    "import pandas as pd\n",
    "import numpy as np\n",
    "input_file=pd.read_csv(\"C:/Users/kang9/Downloads/naivebayes_example.csv\")\n",
    "input_file"
   ]
  },
  {
   "cell_type": "code",
   "execution_count": 26,
   "metadata": {},
   "outputs": [],
   "source": [
    "docs=(input_file['mail'])"
   ]
  },
  {
   "cell_type": "code",
   "execution_count": 27,
   "metadata": {},
   "outputs": [
    {
     "data": {
      "text/plain": [
       "0            i love you\n",
       "1    love happy weekend\n",
       "2         bore work job\n",
       "3            i hate you\n",
       "4          bore weekend\n",
       "5        happy together\n",
       "Name: mail, dtype: object"
      ]
     },
     "execution_count": 27,
     "metadata": {},
     "output_type": "execute_result"
    }
   ],
   "source": [
    "docs"
   ]
  },
  {
   "cell_type": "code",
   "execution_count": 28,
   "metadata": {},
   "outputs": [
    {
     "data": {
      "text/plain": [
       "[['i', 'love', 'you'],\n",
       " ['love', 'happy', 'weekend'],\n",
       " ['bore', 'work', 'job'],\n",
       " ['i', 'hate', 'you'],\n",
       " ['bore', 'weekend'],\n",
       " ['happy', 'together']]"
      ]
     },
     "execution_count": 28,
     "metadata": {},
     "output_type": "execute_result"
    }
   ],
   "source": [
    "doc_ls=[]\n",
    "for doc in docs:\n",
    "    doc_ls.append(doc.split())\n",
    "doc_ls"
   ]
  },
  {
   "cell_type": "code",
   "execution_count": 29,
   "metadata": {},
   "outputs": [
    {
     "data": {
      "text/plain": [
       "defaultdict(<function __main__.<lambda>()>,\n",
       "            {'i': 0,\n",
       "             'love': 1,\n",
       "             'you': 2,\n",
       "             'happy': 3,\n",
       "             'weekend': 4,\n",
       "             'bore': 5,\n",
       "             'work': 6,\n",
       "             'job': 7,\n",
       "             'hate': 8,\n",
       "             'together': 9})"
      ]
     },
     "execution_count": 29,
     "metadata": {},
     "output_type": "execute_result"
    }
   ],
   "source": [
    "#유니크한 것 토큰화\n",
    "from collections import defaultdict\n",
    "word2id = defaultdict(lambda:len(word2id))\n",
    "\n",
    "#중복이 되는 토큰은 한번씩만 들어가게 된다.\n",
    "for doc in doc_ls:\n",
    "    for token in doc:\n",
    "        word2id[token]  #토큰을 인덱스로\n",
    "word2id"
   ]
  },
  {
   "cell_type": "code",
   "execution_count": 30,
   "metadata": {},
   "outputs": [],
   "source": [
    "positive=[]\n",
    "for i,word in enumerate(doc_ls):\n",
    "    for po in word:\n",
    "        if input_file['label'][i]==1:\n",
    "            positive.append(po)"
   ]
  },
  {
   "cell_type": "code",
   "execution_count": 31,
   "metadata": {},
   "outputs": [
    {
     "data": {
      "text/plain": [
       "['i', 'love', 'you', 'love', 'happy', 'weekend', 'happy', 'together']"
      ]
     },
     "execution_count": 31,
     "metadata": {},
     "output_type": "execute_result"
    }
   ],
   "source": [
    "positive"
   ]
  },
  {
   "cell_type": "code",
   "execution_count": 32,
   "metadata": {},
   "outputs": [],
   "source": [
    "negative=[]\n",
    "for i,word in enumerate(doc_ls):\n",
    "    for ne in word:\n",
    "        if input_file['label'][i]==0:\n",
    "            negative.append(ne)"
   ]
  },
  {
   "cell_type": "code",
   "execution_count": 33,
   "metadata": {},
   "outputs": [
    {
     "data": {
      "text/plain": [
       "['bore', 'work', 'job', 'i', 'hate', 'you', 'bore', 'weekend']"
      ]
     },
     "execution_count": 33,
     "metadata": {},
     "output_type": "execute_result"
    }
   ],
   "source": [
    "negative"
   ]
  },
  {
   "cell_type": "code",
   "execution_count": 34,
   "metadata": {},
   "outputs": [
    {
     "name": "stdout",
     "output_type": "stream",
     "text": [
      "[1 2 1 2 1 0 0 0 0 1]\n"
     ]
    }
   ],
   "source": [
    "po_la=np.zeros(len(word2id),dtype=int)\n",
    "\n",
    "for token in positive:\n",
    "    po_la[word2id[token]] +=1 #해당토큰위치(column)\n",
    " \n",
    "print(po_la)"
   ]
  },
  {
   "cell_type": "code",
   "execution_count": 35,
   "metadata": {},
   "outputs": [
    {
     "name": "stdout",
     "output_type": "stream",
     "text": [
      "[1 0 1 0 1 2 1 1 1 0]\n"
     ]
    }
   ],
   "source": [
    "ne_la=np.zeros(len(word2id),dtype=int)\n",
    "\n",
    "for token in negative:\n",
    "    ne_la[word2id[token]] +=1 #해당토큰위치(column)\n",
    " \n",
    "print(ne_la)"
   ]
  },
  {
   "cell_type": "code",
   "execution_count": 36,
   "metadata": {},
   "outputs": [
    {
     "data": {
      "text/html": [
       "<div>\n",
       "<style scoped>\n",
       "    .dataframe tbody tr th:only-of-type {\n",
       "        vertical-align: middle;\n",
       "    }\n",
       "\n",
       "    .dataframe tbody tr th {\n",
       "        vertical-align: top;\n",
       "    }\n",
       "\n",
       "    .dataframe thead th {\n",
       "        text-align: right;\n",
       "    }\n",
       "</style>\n",
       "<table border=\"1\" class=\"dataframe\">\n",
       "  <thead>\n",
       "    <tr style=\"text-align: right;\">\n",
       "      <th></th>\n",
       "    </tr>\n",
       "  </thead>\n",
       "  <tbody>\n",
       "    <tr>\n",
       "      <th>i</th>\n",
       "    </tr>\n",
       "    <tr>\n",
       "      <th>love</th>\n",
       "    </tr>\n",
       "    <tr>\n",
       "      <th>you</th>\n",
       "    </tr>\n",
       "    <tr>\n",
       "      <th>happy</th>\n",
       "    </tr>\n",
       "    <tr>\n",
       "      <th>weekend</th>\n",
       "    </tr>\n",
       "    <tr>\n",
       "      <th>bore</th>\n",
       "    </tr>\n",
       "    <tr>\n",
       "      <th>work</th>\n",
       "    </tr>\n",
       "    <tr>\n",
       "      <th>job</th>\n",
       "    </tr>\n",
       "    <tr>\n",
       "      <th>hate</th>\n",
       "    </tr>\n",
       "    <tr>\n",
       "      <th>together</th>\n",
       "    </tr>\n",
       "  </tbody>\n",
       "</table>\n",
       "</div>"
      ],
      "text/plain": [
       "Empty DataFrame\n",
       "Columns: []\n",
       "Index: [i, love, you, happy, weekend, bore, work, job, hate, together]"
      ]
     },
     "execution_count": 36,
     "metadata": {},
     "output_type": "execute_result"
    }
   ],
   "source": [
    "df=pd.DataFrame(index=word2id)\n",
    "df"
   ]
  },
  {
   "cell_type": "code",
   "execution_count": 37,
   "metadata": {},
   "outputs": [
    {
     "data": {
      "text/html": [
       "<div>\n",
       "<style scoped>\n",
       "    .dataframe tbody tr th:only-of-type {\n",
       "        vertical-align: middle;\n",
       "    }\n",
       "\n",
       "    .dataframe tbody tr th {\n",
       "        vertical-align: top;\n",
       "    }\n",
       "\n",
       "    .dataframe thead th {\n",
       "        text-align: right;\n",
       "    }\n",
       "</style>\n",
       "<table border=\"1\" class=\"dataframe\">\n",
       "  <thead>\n",
       "    <tr style=\"text-align: right;\">\n",
       "      <th></th>\n",
       "      <th>positive</th>\n",
       "    </tr>\n",
       "  </thead>\n",
       "  <tbody>\n",
       "    <tr>\n",
       "      <th>i</th>\n",
       "      <td>1</td>\n",
       "    </tr>\n",
       "    <tr>\n",
       "      <th>love</th>\n",
       "      <td>2</td>\n",
       "    </tr>\n",
       "    <tr>\n",
       "      <th>you</th>\n",
       "      <td>1</td>\n",
       "    </tr>\n",
       "    <tr>\n",
       "      <th>happy</th>\n",
       "      <td>2</td>\n",
       "    </tr>\n",
       "    <tr>\n",
       "      <th>weekend</th>\n",
       "      <td>1</td>\n",
       "    </tr>\n",
       "    <tr>\n",
       "      <th>bore</th>\n",
       "      <td>0</td>\n",
       "    </tr>\n",
       "    <tr>\n",
       "      <th>work</th>\n",
       "      <td>0</td>\n",
       "    </tr>\n",
       "    <tr>\n",
       "      <th>job</th>\n",
       "      <td>0</td>\n",
       "    </tr>\n",
       "    <tr>\n",
       "      <th>hate</th>\n",
       "      <td>0</td>\n",
       "    </tr>\n",
       "    <tr>\n",
       "      <th>together</th>\n",
       "      <td>1</td>\n",
       "    </tr>\n",
       "  </tbody>\n",
       "</table>\n",
       "</div>"
      ],
      "text/plain": [
       "          positive\n",
       "i                1\n",
       "love             2\n",
       "you              1\n",
       "happy            2\n",
       "weekend          1\n",
       "bore             0\n",
       "work             0\n",
       "job              0\n",
       "hate             0\n",
       "together         1"
      ]
     },
     "execution_count": 37,
     "metadata": {},
     "output_type": "execute_result"
    }
   ],
   "source": [
    "df['positive']=po_la\n",
    "df"
   ]
  },
  {
   "cell_type": "code",
   "execution_count": 38,
   "metadata": {},
   "outputs": [
    {
     "data": {
      "text/html": [
       "<div>\n",
       "<style scoped>\n",
       "    .dataframe tbody tr th:only-of-type {\n",
       "        vertical-align: middle;\n",
       "    }\n",
       "\n",
       "    .dataframe tbody tr th {\n",
       "        vertical-align: top;\n",
       "    }\n",
       "\n",
       "    .dataframe thead th {\n",
       "        text-align: right;\n",
       "    }\n",
       "</style>\n",
       "<table border=\"1\" class=\"dataframe\">\n",
       "  <thead>\n",
       "    <tr style=\"text-align: right;\">\n",
       "      <th></th>\n",
       "      <th>positive</th>\n",
       "      <th>nagative</th>\n",
       "    </tr>\n",
       "  </thead>\n",
       "  <tbody>\n",
       "    <tr>\n",
       "      <th>i</th>\n",
       "      <td>1</td>\n",
       "      <td>1</td>\n",
       "    </tr>\n",
       "    <tr>\n",
       "      <th>love</th>\n",
       "      <td>2</td>\n",
       "      <td>0</td>\n",
       "    </tr>\n",
       "    <tr>\n",
       "      <th>you</th>\n",
       "      <td>1</td>\n",
       "      <td>1</td>\n",
       "    </tr>\n",
       "    <tr>\n",
       "      <th>happy</th>\n",
       "      <td>2</td>\n",
       "      <td>0</td>\n",
       "    </tr>\n",
       "    <tr>\n",
       "      <th>weekend</th>\n",
       "      <td>1</td>\n",
       "      <td>1</td>\n",
       "    </tr>\n",
       "    <tr>\n",
       "      <th>bore</th>\n",
       "      <td>0</td>\n",
       "      <td>2</td>\n",
       "    </tr>\n",
       "    <tr>\n",
       "      <th>work</th>\n",
       "      <td>0</td>\n",
       "      <td>1</td>\n",
       "    </tr>\n",
       "    <tr>\n",
       "      <th>job</th>\n",
       "      <td>0</td>\n",
       "      <td>1</td>\n",
       "    </tr>\n",
       "    <tr>\n",
       "      <th>hate</th>\n",
       "      <td>0</td>\n",
       "      <td>1</td>\n",
       "    </tr>\n",
       "    <tr>\n",
       "      <th>together</th>\n",
       "      <td>1</td>\n",
       "      <td>0</td>\n",
       "    </tr>\n",
       "  </tbody>\n",
       "</table>\n",
       "</div>"
      ],
      "text/plain": [
       "          positive  nagative\n",
       "i                1         1\n",
       "love             2         0\n",
       "you              1         1\n",
       "happy            2         0\n",
       "weekend          1         1\n",
       "bore             0         2\n",
       "work             0         1\n",
       "job              0         1\n",
       "hate             0         1\n",
       "together         1         0"
      ]
     },
     "execution_count": 38,
     "metadata": {},
     "output_type": "execute_result"
    }
   ],
   "source": [
    "df['nagative']=ne_la\n",
    "df"
   ]
  },
  {
   "cell_type": "code",
   "execution_count": null,
   "metadata": {},
   "outputs": [],
   "source": [
    "#선생님 직접구현"
   ]
  },
  {
   "cell_type": "code",
   "execution_count": 16,
   "metadata": {},
   "outputs": [],
   "source": [
    "import pandas as pd\n",
    "import numpy as np\n",
    "input_file=pd.read_csv(\"C:/Users/kang9/Downloads/naivebayes_example.csv\")"
   ]
  },
  {
   "cell_type": "code",
   "execution_count": 17,
   "metadata": {},
   "outputs": [
    {
     "name": "stdout",
     "output_type": "stream",
     "text": [
      "[['i love you' 1]\n",
      " ['love happy weekend' 1]\n",
      " ['bore work job' 0]\n",
      " ['i hate you' 0]\n",
      " ['bore weekend' 0]\n",
      " ['happy together' 1]]\n"
     ]
    }
   ],
   "source": [
    "training_set = np.array(input_file)\n",
    "print(training_set)"
   ]
  },
  {
   "cell_type": "code",
   "execution_count": 18,
   "metadata": {},
   "outputs": [
    {
     "data": {
      "text/plain": [
       "array([['i love you', 1],\n",
       "       ['love happy weekend', 1],\n",
       "       ['bore work job', 0],\n",
       "       ['i hate you', 0],\n",
       "       ['bore weekend', 0],\n",
       "       ['happy together', 1]], dtype=object)"
      ]
     },
     "execution_count": 18,
     "metadata": {},
     "output_type": "execute_result"
    }
   ],
   "source": [
    "training_set"
   ]
  },
  {
   "cell_type": "code",
   "execution_count": 19,
   "metadata": {},
   "outputs": [
    {
     "data": {
      "text/plain": [
       "defaultdict(<function __main__.<lambda>()>,\n",
       "            {'i': [1, 1],\n",
       "             'love': [2, 0],\n",
       "             'you': [1, 1],\n",
       "             'happy': [2, 0],\n",
       "             'weekend': [1, 1],\n",
       "             'bore': [0, 2],\n",
       "             'work': [0, 1],\n",
       "             'job': [0, 1],\n",
       "             'hate': [0, 1],\n",
       "             'together': [1, 0]})"
      ]
     },
     "execution_count": 19,
     "metadata": {},
     "output_type": "execute_result"
    }
   ],
   "source": [
    "# 토큰별로 문서 내 빈도수 카운팅\n",
    "from collections import defaultdict\n",
    "wordfreq = defaultdict(lambda : [0,0])  # lambda : 새로운 단어가 추가 될때 default 를 [0,0]으로 하겠다. [긍정,부정]\n",
    "for doc, point in training_set:\n",
    "    words = doc.split()\n",
    "    for word in words:\n",
    "        if point == 1:   \n",
    "            wordfreq[word][0] +=1 # 긍정인 경우 0번째 인텍스에 1더해라 \n",
    "        else:\n",
    "            wordfreq[word][1] +=1 # 부정인 경우 1번째 인텍스에 1더해라\n",
    "        \n",
    "wordfreq"
   ]
  },
  {
   "cell_type": "code",
   "execution_count": 20,
   "metadata": {},
   "outputs": [
    {
     "name": "stdout",
     "output_type": "stream",
     "text": [
      "[1, 2, 1, 2, 1, 0, 0, 0, 0, 1]\n",
      "[1, 0, 1, 0, 1, 2, 1, 1, 1, 0]\n",
      "8 8\n"
     ]
    }
   ],
   "source": [
    "# 긍정/ 부정 빈도수 계산\n",
    "긍정전체토큰수=[]\n",
    "부정전체토큰수=[]\n",
    "for key, (cnt1,cnt0) in wordfreq.items():\n",
    "    긍정전체토큰수.append(int(cnt1))\n",
    "    부정전체토큰수.append(int(cnt0))\n",
    "print(긍정전체토큰수)\n",
    "print(부정전체토큰수)\n",
    "전체갯수_긍정 = sum(긍정전체토큰수)\n",
    "전체갯수_부정 = sum(부정전체토큰수)\n",
    "print(전체갯수_긍정,전체갯수_부정)"
   ]
  },
  {
   "cell_type": "code",
   "execution_count": 21,
   "metadata": {},
   "outputs": [
    {
     "data": {
      "text/plain": [
       "defaultdict(<function __main__.<lambda>()>,\n",
       "            {'i': [1, 1],\n",
       "             'love': [2, 0],\n",
       "             'you': [1, 1],\n",
       "             'happy': [2, 0],\n",
       "             'weekend': [1, 1],\n",
       "             'bore': [0, 2],\n",
       "             'work': [0, 1],\n",
       "             'job': [0, 1],\n",
       "             'hate': [0, 1],\n",
       "             'together': [1, 0]})"
      ]
     },
     "execution_count": 21,
     "metadata": {},
     "output_type": "execute_result"
    }
   ],
   "source": [
    "wordfreq"
   ]
  },
  {
   "cell_type": "code",
   "execution_count": 22,
   "metadata": {},
   "outputs": [
    {
     "data": {
      "text/plain": [
       "defaultdict(<function __main__.<lambda>()>,\n",
       "            {'i': [0.1111111111111111, 0.1111111111111111],\n",
       "             'love': [0.16666666666666666, 0.05555555555555555],\n",
       "             'you': [0.1111111111111111, 0.1111111111111111],\n",
       "             'happy': [0.16666666666666666, 0.05555555555555555],\n",
       "             'weekend': [0.1111111111111111, 0.1111111111111111],\n",
       "             'bore': [0.05555555555555555, 0.16666666666666666],\n",
       "             'work': [0.05555555555555555, 0.1111111111111111],\n",
       "             'job': [0.05555555555555555, 0.1111111111111111],\n",
       "             'hate': [0.05555555555555555, 0.1111111111111111],\n",
       "             'together': [0.1111111111111111, 0.05555555555555555]})"
      ]
     },
     "execution_count": 22,
     "metadata": {},
     "output_type": "execute_result"
    }
   ],
   "source": [
    "wordprobs = defaultdict(lambda:[0,0])\n",
    "for key, (cnt1,cnt0) in wordfreq.items():\n",
    "    wordprobs[key][0] = (cnt1 + 1)/(전체갯수_긍정 + len(wordfreq))\n",
    "    wordprobs[key][1] = (cnt0 + 1)/(전체갯수_부정 + len(wordfreq))\n",
    "wordprobs"
   ]
  },
  {
   "cell_type": "code",
   "execution_count": 23,
   "metadata": {},
   "outputs": [
    {
     "data": {
      "text/plain": [
       "['happy', 'weekend']"
      ]
     },
     "execution_count": 23,
     "metadata": {},
     "output_type": "execute_result"
    }
   ],
   "source": [
    "import math\n",
    "doc = \"happy weekend\" \n",
    "tokens = doc.split()\n",
    "tokens"
   ]
  },
  {
   "cell_type": "code",
   "execution_count": 24,
   "metadata": {},
   "outputs": [
    {
     "name": "stdout",
     "output_type": "stream",
     "text": [
      "prob1 0.009259259259259257\n",
      "prob0 0.0030864197530864183\n",
      "happy와 weekend가 새로운 메일에 포함되어 있을 경우, 긍정확률과 부정확률\n",
      "긍정확률 : 75.00000000000001%\n",
      "부정확률 : 24.999999999999996%\n"
     ]
    }
   ],
   "source": [
    "# 초기값을 모두 0으로 처리 \n",
    "log_prob1 = log_prob0 = 0.0\n",
    "\n",
    "# 모든 단어에 대해 반복 \n",
    "for word, (prob1,prob0) in wordprobs.items():\n",
    "    if word in tokens:\n",
    "        log_prob1 +=math.log(prob1)\n",
    "        log_prob0 +=math.log(prob0)\n",
    "log_prob1 += math.log(전체갯수_긍정/(전체갯수_긍정+전체갯수_부정))\n",
    "log_prob0 += math.log(전체갯수_부정/(전체갯수_긍정+전체갯수_부정))\n",
    "\n",
    "prob1 = math.exp(log_prob1) \n",
    "print('prob1',prob1)\n",
    "prob0 = math.exp(log_prob0)   \n",
    "print('prob0',prob0)\n",
    "print('happy와 weekend가 새로운 메일에 포함되어 있을 경우, 긍정확률과 부정확률')\n",
    "print(\"긍정확률 : {}%\".format(prob1/(prob1+prob0)*100))\n",
    "print(\"부정확률 : {}%\".format(prob0/(prob1+prob0)*100))"
   ]
  },
  {
   "cell_type": "code",
   "execution_count": null,
   "metadata": {},
   "outputs": [],
   "source": [
    "#sklearn"
   ]
  },
  {
   "cell_type": "code",
   "execution_count": 28,
   "metadata": {},
   "outputs": [
    {
     "name": "stdout",
     "output_type": "stream",
     "text": [
      "['i love you', 'love happy weekend', 'bore work job', 'i hate you', 'bore weekend', 'happy together']\n",
      "[1, 1, 0, 0, 0, 1]\n"
     ]
    }
   ],
   "source": [
    "X_train=list(input_file['mail'])\n",
    "Y_train=list(input_file['label'])\n",
    "print(X_train)\n",
    "print(Y_train)"
   ]
  },
  {
   "cell_type": "code",
   "execution_count": 32,
   "metadata": {},
   "outputs": [],
   "source": [
    "from sklearn.feature_extraction.text import CountVectorizer\n",
    "from sklearn.feature_extraction.text import TfidfTransformer\n",
    "from sklearn.naive_bayes import MultinomialNB\n",
    "#CointVectorizer 선언\n",
    "count_vect=CountVectorizer()\n",
    "#fit and transform\n",
    "X_train_count=count_vect.fit_transform(X_train)\n",
    "#MultinomialNB\n",
    "clf=MultinomialNB().fit(X_train_count,Y_train)"
   ]
  },
  {
   "cell_type": "code",
   "execution_count": 34,
   "metadata": {},
   "outputs": [
    {
     "name": "stdout",
     "output_type": "stream",
     "text": [
      "[1]\n",
      "[[0.25 0.75]]\n"
     ]
    }
   ],
   "source": [
    "#예측\n",
    "print(clf.predict(count_vect.transform([\"happy weekend\"])))\n",
    "#확률\n",
    "print(clf.predict_proba(count_vect.transform([\"happy weekend\"])))"
   ]
  }
 ],
 "metadata": {
  "kernelspec": {
   "display_name": "Python 3",
   "language": "python",
   "name": "python3"
  },
  "language_info": {
   "codemirror_mode": {
    "name": "ipython",
    "version": 3
   },
   "file_extension": ".py",
   "mimetype": "text/x-python",
   "name": "python",
   "nbconvert_exporter": "python",
   "pygments_lexer": "ipython3",
   "version": "3.6.10"
  }
 },
 "nbformat": 4,
 "nbformat_minor": 4
}
