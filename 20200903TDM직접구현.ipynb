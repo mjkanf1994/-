{
 "cells": [
  {
   "cell_type": "code",
   "execution_count": 32,
   "metadata": {},
   "outputs": [],
   "source": [
    "docs =['동물원 코끼리',\n",
    "      '동물원 원숭이 바나나',\n",
    "      '엄마 코끼리 아기 코끼리',\n",
    "      '원숭이 바나나 코끼리 바나나']"
   ]
  },
  {
   "cell_type": "code",
   "execution_count": 33,
   "metadata": {},
   "outputs": [
    {
     "data": {
      "text/plain": [
       "[['동물원', '코끼리'],\n",
       " ['동물원', '원숭이', '바나나'],\n",
       " ['엄마', '코끼리', '아기', '코끼리'],\n",
       " ['원숭이', '바나나', '코끼리', '바나나']]"
      ]
     },
     "execution_count": 33,
     "metadata": {},
     "output_type": "execute_result"
    }
   ],
   "source": [
    "doc_ls=[]\n",
    "for doc in docs:\n",
    "    doc_ls.append(doc.split(' '))\n",
    "doc_ls    "
   ]
  },
  {
   "cell_type": "code",
   "execution_count": 34,
   "metadata": {},
   "outputs": [],
   "source": [
    "from collections import defaultdict\n",
    "word2id = defaultdict(lambda:len(word2id))\n",
    "\n",
    "#중복이 되는 토큰은 한번씩만 들어가게 된다.\n",
    "for doc in doc_ls:\n",
    "    for token in doc:\n",
    "        word2id[token]  #토큰을 인덱스로"
   ]
  },
  {
   "cell_type": "code",
   "execution_count": 35,
   "metadata": {},
   "outputs": [
    {
     "name": "stdout",
     "output_type": "stream",
     "text": [
      "[[0 0 0 0]\n",
      " [0 0 0 0]\n",
      " [0 0 0 0]\n",
      " [0 0 0 0]\n",
      " [0 0 0 0]\n",
      " [0 0 0 0]]\n"
     ]
    },
    {
     "data": {
      "text/plain": [
       "array([[1, 1, 0, 0],\n",
       "       [1, 0, 2, 1],\n",
       "       [0, 1, 0, 1],\n",
       "       [0, 1, 0, 2],\n",
       "       [0, 0, 1, 0],\n",
       "       [0, 0, 1, 0]])"
      ]
     },
     "execution_count": 35,
     "metadata": {},
     "output_type": "execute_result"
    }
   ],
   "source": [
    "import numpy as np\n",
    "\n",
    "TDM=np.zeros((len(word2id),len(doc_ls)),dtype=int)\n",
    "print(TDM)\n",
    "for i, doc in enumerate(doc_ls):\n",
    "    for token in doc:\n",
    "        TDM[word2id[token],i] +=1 #해당토큰위치(column)\n",
    "\n",
    "#행렬표기(BOW와 차이점 : BOW는 1차원 배열)\n",
    "TDM"
   ]
  },
  {
   "cell_type": "code",
   "execution_count": 24,
   "metadata": {},
   "outputs": [
    {
     "name": "stdout",
     "output_type": "stream",
     "text": [
      "doc_names ['문서0', '문서1', '문서2', '문서3']\n"
     ]
    },
    {
     "data": {
      "text/html": [
       "<div>\n",
       "<style scoped>\n",
       "    .dataframe tbody tr th:only-of-type {\n",
       "        vertical-align: middle;\n",
       "    }\n",
       "\n",
       "    .dataframe tbody tr th {\n",
       "        vertical-align: top;\n",
       "    }\n",
       "\n",
       "    .dataframe thead th {\n",
       "        text-align: right;\n",
       "    }\n",
       "</style>\n",
       "<table border=\"1\" class=\"dataframe\">\n",
       "  <thead>\n",
       "    <tr style=\"text-align: right;\">\n",
       "      <th></th>\n",
       "      <th>문서0</th>\n",
       "      <th>문서1</th>\n",
       "      <th>문서2</th>\n",
       "      <th>문서3</th>\n",
       "    </tr>\n",
       "    <tr>\n",
       "      <th>단어</th>\n",
       "      <th></th>\n",
       "      <th></th>\n",
       "      <th></th>\n",
       "      <th></th>\n",
       "    </tr>\n",
       "  </thead>\n",
       "  <tbody>\n",
       "    <tr>\n",
       "      <th>동물원</th>\n",
       "      <td>1</td>\n",
       "      <td>1</td>\n",
       "      <td>0</td>\n",
       "      <td>0</td>\n",
       "    </tr>\n",
       "    <tr>\n",
       "      <th>코끼리</th>\n",
       "      <td>1</td>\n",
       "      <td>0</td>\n",
       "      <td>2</td>\n",
       "      <td>1</td>\n",
       "    </tr>\n",
       "    <tr>\n",
       "      <th>원숭이</th>\n",
       "      <td>0</td>\n",
       "      <td>1</td>\n",
       "      <td>0</td>\n",
       "      <td>1</td>\n",
       "    </tr>\n",
       "    <tr>\n",
       "      <th>바나나</th>\n",
       "      <td>0</td>\n",
       "      <td>1</td>\n",
       "      <td>0</td>\n",
       "      <td>2</td>\n",
       "    </tr>\n",
       "    <tr>\n",
       "      <th>엄마</th>\n",
       "      <td>0</td>\n",
       "      <td>0</td>\n",
       "      <td>1</td>\n",
       "      <td>0</td>\n",
       "    </tr>\n",
       "    <tr>\n",
       "      <th>아기</th>\n",
       "      <td>0</td>\n",
       "      <td>0</td>\n",
       "      <td>1</td>\n",
       "      <td>0</td>\n",
       "    </tr>\n",
       "  </tbody>\n",
       "</table>\n",
       "</div>"
      ],
      "text/plain": [
       "     문서0  문서1  문서2  문서3\n",
       "단어                     \n",
       "동물원    1    1    0    0\n",
       "코끼리    1    0    2    1\n",
       "원숭이    0    1    0    1\n",
       "바나나    0    1    0    2\n",
       "엄마     0    0    1    0\n",
       "아기     0    0    1    0"
      ]
     },
     "execution_count": 24,
     "metadata": {},
     "output_type": "execute_result"
    }
   ],
   "source": [
    "import pandas as pd\n",
    "doc_names=['문서'+str(i) for i in range(len(doc_ls))]\n",
    "print('doc_names',doc_names)\n",
    "sorted_vocab=sorted((value,key) for key,value in word2id.items())\n",
    "vocab=[v[1] for v in sorted_vocab]\n",
    "df_TDM=pd.DataFrame(TDM,columns=doc_names)\n",
    "df_TDM['단어']=vocab\n",
    "df_TDM.set_index('단어')"
   ]
  },
  {
   "cell_type": "code",
   "execution_count": null,
   "metadata": {},
   "outputs": [],
   "source": [
    "#SKLEARN"
   ]
  },
  {
   "cell_type": "code",
   "execution_count": 25,
   "metadata": {},
   "outputs": [],
   "source": [
    "docs =['동물원 코끼리',\n",
    "      '동물원 원숭이 바나나',\n",
    "      '엄마 코끼리 아기 코끼리',\n",
    "      '원숭이 바나나 코끼리 바나나']"
   ]
  },
  {
   "cell_type": "code",
   "execution_count": 26,
   "metadata": {},
   "outputs": [
    {
     "data": {
      "text/plain": [
       "array([[1, 0, 0, 0, 0, 1],\n",
       "       [1, 1, 0, 0, 1, 0],\n",
       "       [0, 0, 1, 1, 0, 2],\n",
       "       [0, 2, 0, 0, 1, 1]], dtype=int64)"
      ]
     },
     "execution_count": 26,
     "metadata": {},
     "output_type": "execute_result"
    }
   ],
   "source": [
    "#토큰 빈도계산 : CounterVectorizer\n",
    "from sklearn.feature_extraction.text import CountVectorizer\n",
    "#선언\n",
    "count_vect=CountVectorizer()\n",
    "DTM=count_vect.fit_transform(docs)\n",
    "DTM.toarray()"
   ]
  },
  {
   "cell_type": "code",
   "execution_count": 27,
   "metadata": {},
   "outputs": [
    {
     "data": {
      "text/plain": [
       "array([[1, 1, 0, 0],\n",
       "       [0, 1, 0, 2],\n",
       "       [0, 0, 1, 0],\n",
       "       [0, 0, 1, 0],\n",
       "       [0, 1, 0, 1],\n",
       "       [1, 0, 2, 1]], dtype=int64)"
      ]
     },
     "execution_count": 27,
     "metadata": {},
     "output_type": "execute_result"
    }
   ],
   "source": [
    "DTM.toarray().T"
   ]
  },
  {
   "cell_type": "code",
   "execution_count": 28,
   "metadata": {},
   "outputs": [
    {
     "name": "stdout",
     "output_type": "stream",
     "text": [
      "['동물원', '바나나', '아기', '엄마', '원숭이', '코끼리']\n"
     ]
    },
    {
     "data": {
      "text/html": [
       "<div>\n",
       "<style scoped>\n",
       "    .dataframe tbody tr th:only-of-type {\n",
       "        vertical-align: middle;\n",
       "    }\n",
       "\n",
       "    .dataframe tbody tr th {\n",
       "        vertical-align: top;\n",
       "    }\n",
       "\n",
       "    .dataframe thead th {\n",
       "        text-align: right;\n",
       "    }\n",
       "</style>\n",
       "<table border=\"1\" class=\"dataframe\">\n",
       "  <thead>\n",
       "    <tr style=\"text-align: right;\">\n",
       "      <th></th>\n",
       "      <th>문서0</th>\n",
       "      <th>문서1</th>\n",
       "      <th>문서2</th>\n",
       "      <th>문서3</th>\n",
       "    </tr>\n",
       "    <tr>\n",
       "      <th>단어</th>\n",
       "      <th></th>\n",
       "      <th></th>\n",
       "      <th></th>\n",
       "      <th></th>\n",
       "    </tr>\n",
       "  </thead>\n",
       "  <tbody>\n",
       "    <tr>\n",
       "      <th>동물원</th>\n",
       "      <td>1</td>\n",
       "      <td>1</td>\n",
       "      <td>0</td>\n",
       "      <td>0</td>\n",
       "    </tr>\n",
       "    <tr>\n",
       "      <th>바나나</th>\n",
       "      <td>0</td>\n",
       "      <td>1</td>\n",
       "      <td>0</td>\n",
       "      <td>2</td>\n",
       "    </tr>\n",
       "    <tr>\n",
       "      <th>아기</th>\n",
       "      <td>0</td>\n",
       "      <td>0</td>\n",
       "      <td>1</td>\n",
       "      <td>0</td>\n",
       "    </tr>\n",
       "    <tr>\n",
       "      <th>엄마</th>\n",
       "      <td>0</td>\n",
       "      <td>0</td>\n",
       "      <td>1</td>\n",
       "      <td>0</td>\n",
       "    </tr>\n",
       "    <tr>\n",
       "      <th>원숭이</th>\n",
       "      <td>0</td>\n",
       "      <td>1</td>\n",
       "      <td>0</td>\n",
       "      <td>1</td>\n",
       "    </tr>\n",
       "    <tr>\n",
       "      <th>코끼리</th>\n",
       "      <td>1</td>\n",
       "      <td>0</td>\n",
       "      <td>2</td>\n",
       "      <td>1</td>\n",
       "    </tr>\n",
       "  </tbody>\n",
       "</table>\n",
       "</div>"
      ],
      "text/plain": [
       "     문서0  문서1  문서2  문서3\n",
       "단어                     \n",
       "동물원    1    1    0    0\n",
       "바나나    0    1    0    2\n",
       "아기     0    0    1    0\n",
       "엄마     0    0    1    0\n",
       "원숭이    0    1    0    1\n",
       "코끼리    1    0    2    1"
      ]
     },
     "execution_count": 28,
     "metadata": {},
     "output_type": "execute_result"
    }
   ],
   "source": [
    "import pandas as pd\n",
    "\n",
    "doc_names=['문서'+str(i) for i in range(len(doc_ls))]\n",
    "vocab=count_vect.get_feature_names()\n",
    "print(vocab)\n",
    "\n",
    "df_TDM=pd.DataFrame(DTM.toarray().T,columns=doc_names)\n",
    "df_TDM['단어']=vocab\n",
    "df_TDM.set_index('단어')"
   ]
  },
  {
   "cell_type": "code",
   "execution_count": null,
   "metadata": {},
   "outputs": [],
   "source": [
    "#GENSIM"
   ]
  },
  {
   "cell_type": "code",
   "execution_count": 29,
   "metadata": {},
   "outputs": [],
   "source": [
    "docs =['동물원 코끼리',\n",
    "      '동물원 원숭이 바나나',\n",
    "      '엄마 코끼리 아기 코끼리',\n",
    "      '원숭이 바나나 코끼리 바나나']"
   ]
  },
  {
   "cell_type": "code",
   "execution_count": 30,
   "metadata": {},
   "outputs": [
    {
     "name": "stdout",
     "output_type": "stream",
     "text": [
      "[['동물원', '코끼리'], ['동물원', '원숭이', '바나나'], ['엄마', '코끼리', '아기', '코끼리'], ['원숭이', '바나나', '코끼리', '바나나']]\n"
     ]
    },
    {
     "data": {
      "text/plain": [
       "[[(0, 1), (1, 1)],\n",
       " [(0, 1), (2, 1), (3, 1)],\n",
       " [(1, 2), (4, 1), (5, 1)],\n",
       " [(1, 1), (2, 2), (3, 1)]]"
      ]
     },
     "execution_count": 30,
     "metadata": {},
     "output_type": "execute_result"
    }
   ],
   "source": [
    "from gensim import corpora\n",
    "\n",
    "#토큰화시키기\n",
    "doc_ls=[]\n",
    "for doc in docs:\n",
    "    doc_ls.append(doc.split())\n",
    "print(doc_ls)    \n",
    "id2word=corpora.Dictionary(doc_ls)\n",
    "\n",
    "TDM=[id2word.doc2bow(doc) for doc in doc_ls]\n",
    "TDM"
   ]
  },
  {
   "cell_type": "code",
   "execution_count": 31,
   "metadata": {},
   "outputs": [
    {
     "data": {
      "text/html": [
       "<div>\n",
       "<style scoped>\n",
       "    .dataframe tbody tr th:only-of-type {\n",
       "        vertical-align: middle;\n",
       "    }\n",
       "\n",
       "    .dataframe tbody tr th {\n",
       "        vertical-align: top;\n",
       "    }\n",
       "\n",
       "    .dataframe thead th {\n",
       "        text-align: right;\n",
       "    }\n",
       "</style>\n",
       "<table border=\"1\" class=\"dataframe\">\n",
       "  <thead>\n",
       "    <tr style=\"text-align: right;\">\n",
       "      <th></th>\n",
       "      <th>문서0</th>\n",
       "      <th>문서1</th>\n",
       "      <th>문서2</th>\n",
       "      <th>문서3</th>\n",
       "    </tr>\n",
       "    <tr>\n",
       "      <th>단어</th>\n",
       "      <th></th>\n",
       "      <th></th>\n",
       "      <th></th>\n",
       "      <th></th>\n",
       "    </tr>\n",
       "  </thead>\n",
       "  <tbody>\n",
       "    <tr>\n",
       "      <th>동물원</th>\n",
       "      <td>1</td>\n",
       "      <td>1</td>\n",
       "      <td>0</td>\n",
       "      <td>0</td>\n",
       "    </tr>\n",
       "    <tr>\n",
       "      <th>코끼리</th>\n",
       "      <td>1</td>\n",
       "      <td>0</td>\n",
       "      <td>2</td>\n",
       "      <td>1</td>\n",
       "    </tr>\n",
       "    <tr>\n",
       "      <th>바나나</th>\n",
       "      <td>0</td>\n",
       "      <td>1</td>\n",
       "      <td>0</td>\n",
       "      <td>2</td>\n",
       "    </tr>\n",
       "    <tr>\n",
       "      <th>원숭이</th>\n",
       "      <td>0</td>\n",
       "      <td>1</td>\n",
       "      <td>0</td>\n",
       "      <td>1</td>\n",
       "    </tr>\n",
       "    <tr>\n",
       "      <th>아기</th>\n",
       "      <td>0</td>\n",
       "      <td>0</td>\n",
       "      <td>1</td>\n",
       "      <td>0</td>\n",
       "    </tr>\n",
       "    <tr>\n",
       "      <th>엄마</th>\n",
       "      <td>0</td>\n",
       "      <td>0</td>\n",
       "      <td>1</td>\n",
       "      <td>0</td>\n",
       "    </tr>\n",
       "  </tbody>\n",
       "</table>\n",
       "</div>"
      ],
      "text/plain": [
       "     문서0  문서1  문서2  문서3\n",
       "단어                     \n",
       "동물원    1    1    0    0\n",
       "코끼리    1    0    2    1\n",
       "바나나    0    1    0    2\n",
       "원숭이    0    1    0    1\n",
       "아기     0    0    1    0\n",
       "엄마     0    0    1    0"
      ]
     },
     "execution_count": 31,
     "metadata": {},
     "output_type": "execute_result"
    }
   ],
   "source": [
    "from gensim.matutils import sparse2full\n",
    "import pandas as pd\n",
    "import numpy as np\n",
    "\n",
    "\n",
    "doc_names=['문서'+str(i) for i in range(len(doc_ls))]\n",
    "vocab=[id2word[i] for i in id2word.keys()]\n",
    "DTM_matrix=[sparse2full(doc,len(vocab)).tolist() for doc in TDM]\n",
    "\n",
    "df_TDM=pd.DataFrame(np.array(DTM_matrix,dtype=int).T,columns=doc_names)\n",
    "df_TDM['단어']=vocab\n",
    "df_TDM.set_index('단어')"
   ]
  },
  {
   "cell_type": "code",
   "execution_count": null,
   "metadata": {},
   "outputs": [],
   "source": []
  }
 ],
 "metadata": {
  "kernelspec": {
   "display_name": "Python 3",
   "language": "python",
   "name": "python3"
  },
  "language_info": {
   "codemirror_mode": {
    "name": "ipython",
    "version": 3
   },
   "file_extension": ".py",
   "mimetype": "text/x-python",
   "name": "python",
   "nbconvert_exporter": "python",
   "pygments_lexer": "ipython3",
   "version": "3.6.10"
  }
 },
 "nbformat": 4,
 "nbformat_minor": 4
}
